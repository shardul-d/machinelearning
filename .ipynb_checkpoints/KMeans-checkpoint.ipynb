{
 "cells": [
  {
   "cell_type": "markdown",
   "id": "34677f5c",
   "metadata": {},
   "source": [
    "# Importing required libraries"
   ]
  },
  {
   "cell_type": "code",
   "execution_count": 41,
   "id": "22a409de",
   "metadata": {},
   "outputs": [],
   "source": [
    "import numpy as np\n",
    "import pandas as pd\n",
    "from collections import defaultdict"
   ]
  },
  {
   "cell_type": "markdown",
   "id": "7e58d82a",
   "metadata": {},
   "source": [
    "# Replacing all null values with the median value of the column"
   ]
  },
  {
   "cell_type": "code",
   "execution_count": 42,
   "id": "5bd60847",
   "metadata": {},
   "outputs": [],
   "source": [
    "df = pd.read_csv('ieeedata.csv')\n",
    "\n",
    "df['coordinate1'] = df['coordinate1'].replace(0, df['coordinate1'].median())\n",
    "\n",
    "df['coordinate2'] = df['coordinate2'].replace(0, df['coordinate2'].median())\n",
    "\n",
    "df['coordinate3'] = df['coordinate3'].replace(0, df['coordinate3'].median())\n",
    "\n",
    "df['coordinate4'] = df['coordinate4'].replace(0, df['coordinate4'].median())\n",
    "\n",
    "df['coordinate5'] = df['coordinate5'].replace(0, df['coordinate5'].median())\n",
    "\n",
    "data = df.to_numpy()"
   ]
  },
  {
   "cell_type": "markdown",
   "id": "1e5b43ba",
   "metadata": {},
   "source": [
    "# Choosing number of clusters"
   ]
  },
  {
   "cell_type": "code",
   "execution_count": 43,
   "id": "815a3895",
   "metadata": {},
   "outputs": [],
   "source": [
    "K = 4"
   ]
  },
  {
   "cell_type": "markdown",
   "id": "3c317a20",
   "metadata": {},
   "source": [
    "# Class to assign points to clusters"
   ]
  },
  {
   "cell_type": "code",
   "execution_count": 44,
   "id": "8306ad98",
   "metadata": {},
   "outputs": [],
   "source": [
    "class Point:\n",
    "    def __init__(self, data):\n",
    "        self.data = data\n",
    "        self.k = np.random.randint(0, K)\n",
    "\n",
    "\n",
    "points = [Point(i) for i in data]"
   ]
  },
  {
   "cell_type": "markdown",
   "id": "dbdf4840",
   "metadata": {},
   "source": [
    "# Function to create a list of points assigned to each cluster "
   ]
  },
  {
   "cell_type": "code",
   "execution_count": 45,
   "id": "08adfac6",
   "metadata": {},
   "outputs": [],
   "source": [
    "def make_k_mapping(points):\n",
    "    point_dict = defaultdict(list)\n",
    "    for p in points:\n",
    "        point_dict[p.k] = point_dict[p.k] + [p.data]\n",
    "    return point_dict"
   ]
  },
  {
   "cell_type": "markdown",
   "id": "0a8ddb15",
   "metadata": {},
   "source": [
    "# Function to calculate mean of each cluster"
   ]
  },
  {
   "cell_type": "code",
   "execution_count": 46,
   "id": "295533d4",
   "metadata": {},
   "outputs": [],
   "source": [
    "def calc_k_means(point_dict):\n",
    "    means = [np.mean(point_dict[k], axis=0) for k in range(K)]\n",
    "    return means"
   ]
  },
  {
   "cell_type": "markdown",
   "id": "7935f71a",
   "metadata": {},
   "source": [
    "# Function to reassign points to the nearest cluster mean"
   ]
  },
  {
   "cell_type": "code",
   "execution_count": 47,
   "id": "4024d080",
   "metadata": {},
   "outputs": [],
   "source": [
    "def update_k(points, means):\n",
    "    for p in points:\n",
    "        dists = [np.linalg.norm(means[k] - p.data) for k in range(K)]\n",
    "        p.k = np.argmin(dists)"
   ]
  },
  {
   "cell_type": "markdown",
   "id": "140787b3",
   "metadata": {},
   "source": [
    "# Final K-Means algorithm\n",
    "\n",
    "## Avoids bad initialisations by computing the cost function for multiple random initialisations and returning the centroids corresponding to the lowest value of the cost function."
   ]
  },
  {
   "cell_type": "code",
   "execution_count": 48,
   "id": "1ee2b7ec",
   "metadata": {},
   "outputs": [],
   "source": [
    "def kmeans(epochs=15, randinit=8):\n",
    "    dist = []\n",
    "    listofmeans = []\n",
    "    for i in range(randinit):\n",
    "        points = [Point(i) for i in data]\n",
    "        for e in range(epochs):\n",
    "            point_dict = make_k_mapping(points)\n",
    "            means = calc_k_means(point_dict)\n",
    "            update_k(points, means)\n",
    "\n",
    "        dist.append([(sum(np.linalg.norm(p.data - means[p.k]) for p in points))])\n",
    "        listofmeans.append(means)\n",
    "    return listofmeans[np.argmin(dist)]"
   ]
  },
  {
   "cell_type": "markdown",
   "id": "99c19dcf",
   "metadata": {},
   "source": [
    "# Prints the coordinates of the means"
   ]
  },
  {
   "cell_type": "code",
   "execution_count": 49,
   "id": "64d3ad0a",
   "metadata": {},
   "outputs": [
    {
     "name": "stdout",
     "output_type": "stream",
     "text": [
      "[array([1.30072991e+07, 5.62670333e+08, 3.66736379e+06, 3.03316481e+07,\n",
      "       1.78874391e+07]), array([1.15881681e+07, 2.13043250e+06, 5.23457820e+08, 6.72437342e+06,\n",
      "       2.23811055e+07]), array([7.95225865e+07, 5.48023626e+07, 1.44102912e+07, 7.14930655e+08,\n",
      "       3.54625900e+06]), array([30481505.30913209, 10342579.58868895, 10451526.73042852,\n",
      "       14883977.53470437, 25741647.86409615])]\n"
     ]
    }
   ],
   "source": [
    "print(kmeans())"
   ]
  },
  {
   "cell_type": "markdown",
   "id": "35d9ffb1",
   "metadata": {},
   "source": [
    "# Modified Akaiko Information Criterion function to determine the optimal number of clusters"
   ]
  },
  {
   "cell_type": "code",
   "execution_count": 50,
   "id": "4ad4f747",
   "metadata": {},
   "outputs": [
    {
     "name": "stdout",
     "output_type": "stream",
     "text": [
      "130.88055795065569\n"
     ]
    }
   ],
   "source": [
    "means = kmeans()\n",
    "\n",
    "\n",
    "def modaic(points):\n",
    "    sigma = 0.00\n",
    "    for p in points:\n",
    "        dist = np.linalg.norm(p.data - means[p.k])\n",
    "        sigma = sigma + dist\n",
    "\n",
    "    print(sigma / (5 * K * (10 ** 8)))\n",
    "\n",
    "\n",
    "modaic(points)"
   ]
  },
  {
   "cell_type": "code",
   "execution_count": null,
   "id": "2e23df7b",
   "metadata": {},
   "outputs": [],
   "source": []
  }
 ],
 "metadata": {
  "kernelspec": {
   "display_name": "Python 3 (ipykernel)",
   "language": "python",
   "name": "python3"
  },
  "language_info": {
   "codemirror_mode": {
    "name": "ipython",
    "version": 3
   },
   "file_extension": ".py",
   "mimetype": "text/x-python",
   "name": "python",
   "nbconvert_exporter": "python",
   "pygments_lexer": "ipython3",
   "version": "3.10.10"
  }
 },
 "nbformat": 4,
 "nbformat_minor": 5
}
