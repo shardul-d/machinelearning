{
 "cells": [
  {
   "cell_type": "markdown",
   "id": "1c23903e",
   "metadata": {},
   "source": [
    "# Importing the required libraries and the MNIST database"
   ]
  },
  {
   "cell_type": "code",
   "execution_count": 3,
   "id": "32ef0aa2",
   "metadata": {},
   "outputs": [],
   "source": [
    "import tensorflow as tf\n",
    "import keras.losses\n",
    "import keras.optimizers\n",
    "\n",
    "mnist = tf.keras.datasets.mnist\n",
    "\n",
    "(x_train, y_train), (x_test, y_test) = mnist.load_data()"
   ]
  },
  {
   "cell_type": "markdown",
   "id": "3db530d2",
   "metadata": {},
   "source": [
    "# Normalizing RGB values"
   ]
  },
  {
   "cell_type": "code",
   "execution_count": 4,
   "id": "75207c4e",
   "metadata": {},
   "outputs": [],
   "source": [
    "x_train = tf.keras.utils.normalize(x_train, axis=1)\n",
    "x_test = tf.keras.utils.normalize(x_test, axis=1)"
   ]
  },
  {
   "cell_type": "markdown",
   "id": "a366a885",
   "metadata": {},
   "source": [
    "# Sequential model"
   ]
  },
  {
   "cell_type": "code",
   "execution_count": 5,
   "id": "a8d76e59",
   "metadata": {},
   "outputs": [],
   "source": [
    "model = tf.keras.models.Sequential([\n",
    "    tf.keras.layers.Flatten(input_shape=(28, 28, 1)),\n",
    "    tf.keras.layers.Dense(500, activation='relu'),\n",
    "    tf.keras.layers.Dropout(0.2),\n",
    "    tf.keras.layers.Dense(10)])"
   ]
  },
  {
   "cell_type": "markdown",
   "id": "c857dcbb",
   "metadata": {},
   "source": [
    "# Configure the model for training"
   ]
  },
  {
   "cell_type": "code",
   "execution_count": 6,
   "id": "50914801",
   "metadata": {},
   "outputs": [],
   "source": [
    "loss = keras.losses.SparseCategoricalCrossentropy(from_logits=True)\n",
    "optimizer = keras.optimizers.Adam(learning_rate=0.001)\n",
    "metrics = (\"Accuracy\")\n",
    "\n",
    "model.compile(loss=loss, optimizer=optimizer, metrics=metrics)"
   ]
  },
  {
   "cell_type": "markdown",
   "id": "e87bb81c",
   "metadata": {},
   "source": [
    "# Train and evaluate the model against the testing data"
   ]
  },
  {
   "cell_type": "code",
   "execution_count": 7,
   "id": "7e143707",
   "metadata": {},
   "outputs": [
    {
     "name": "stdout",
     "output_type": "stream",
     "text": [
      "Epoch 1/10\n",
      "1200/1200 - 3s - loss: 0.2845 - Accuracy: 0.9191 - val_loss: 0.1479 - val_Accuracy: 0.9571 - 3s/epoch - 3ms/step\n",
      "Epoch 2/10\n",
      "1200/1200 - 4s - loss: 0.1228 - Accuracy: 0.9633 - val_loss: 0.1052 - val_Accuracy: 0.9679 - 4s/epoch - 3ms/step\n",
      "Epoch 3/10\n",
      "1200/1200 - 3s - loss: 0.0841 - Accuracy: 0.9745 - val_loss: 0.0851 - val_Accuracy: 0.9745 - 3s/epoch - 3ms/step\n",
      "Epoch 4/10\n",
      "1200/1200 - 3s - loss: 0.0629 - Accuracy: 0.9801 - val_loss: 0.0802 - val_Accuracy: 0.9752 - 3s/epoch - 2ms/step\n",
      "Epoch 5/10\n",
      "1200/1200 - 4s - loss: 0.0497 - Accuracy: 0.9845 - val_loss: 0.0738 - val_Accuracy: 0.9775 - 4s/epoch - 3ms/step\n",
      "Epoch 6/10\n",
      "1200/1200 - 4s - loss: 0.0386 - Accuracy: 0.9879 - val_loss: 0.0754 - val_Accuracy: 0.9767 - 4s/epoch - 3ms/step\n",
      "Epoch 7/10\n",
      "1200/1200 - 3s - loss: 0.0322 - Accuracy: 0.9898 - val_loss: 0.0756 - val_Accuracy: 0.9788 - 3s/epoch - 3ms/step\n",
      "Epoch 8/10\n",
      "1200/1200 - 3s - loss: 0.0254 - Accuracy: 0.9916 - val_loss: 0.0777 - val_Accuracy: 0.9772 - 3s/epoch - 3ms/step\n",
      "Epoch 9/10\n",
      "1200/1200 - 3s - loss: 0.0220 - Accuracy: 0.9932 - val_loss: 0.0795 - val_Accuracy: 0.9776 - 3s/epoch - 3ms/step\n",
      "Epoch 10/10\n",
      "1200/1200 - 3s - loss: 0.0177 - Accuracy: 0.9945 - val_loss: 0.0733 - val_Accuracy: 0.9799 - 3s/epoch - 3ms/step\n",
      "313/313 [==============================] - 1s 2ms/step - loss: 0.0733 - Accuracy: 0.9799\n"
     ]
    },
    {
     "data": {
      "text/plain": [
       "[0.07332005351781845, 0.9799000024795532]"
      ]
     },
     "execution_count": 7,
     "metadata": {},
     "output_type": "execute_result"
    }
   ],
   "source": [
    "model.fit(x_train, y_train, batch_size=50, epochs=10, shuffle=True, verbose=2, validation_data=(x_test, y_test))\n",
    "\n",
    "model.evaluate(x_test, y_test)"
   ]
  }
 ],
 "metadata": {
  "kernelspec": {
   "display_name": "Python 3 (ipykernel)",
   "language": "python",
   "name": "python3"
  },
  "language_info": {
   "codemirror_mode": {
    "name": "ipython",
    "version": 3
   },
   "file_extension": ".py",
   "mimetype": "text/x-python",
   "name": "python",
   "nbconvert_exporter": "python",
   "pygments_lexer": "ipython3",
   "version": "3.10.10"
  }
 },
 "nbformat": 4,
 "nbformat_minor": 5
}
